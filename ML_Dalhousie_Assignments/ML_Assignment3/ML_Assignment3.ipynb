{
 "cells": [
  {
   "cell_type": "markdown",
   "metadata": {},
   "source": [
    "# Question1"
   ]
  },
  {
   "cell_type": "code",
   "execution_count": 6,
   "metadata": {
    "collapsed": true
   },
   "outputs": [],
   "source": [
    "from __future__ import division\n",
    "from sklearn import datasets\n",
    "import numpy as np\n",
    "import random as rd\n",
    "import math\n",
    "import matplotlib.pyplot as plt\n",
    "import operator\n",
    "from sklearn import metrics\n",
    "\n",
    "\n",
    "# Gaussain density function\n",
    "def GDF(data, sigma_k, mu_k):\n",
    "    det = np.linalg.det(sigma_k)\n",
    "    sigma_k_inv = np.linalg.pinv(sigma_k)\n",
    "    sub = data - mu_k\n",
    "    constant = 1.0 / ((2 * np.pi) ** (len(data) / 2) * (det ** 0.5))\n",
    "    x = -0.5 * np.matmul(np.matmul(sub, sigma_k_inv), sub.T)\n",
    "    term = math.pow(math.e, x)\n",
    "    # print(term)\n",
    "    return (constant * term)\n",
    "\n",
    "# We calculate the sum of probablity for each data point in each class\n",
    "def Sum_Prob(K, mu, sigma, pi, data):\n",
    "    pb = 0.0\n",
    "    for k in range(K):\n",
    "        pb = pb + (pi[k] * GDF(data, sigma[k], mu[k]))\n",
    "\n",
    "    return pb\n",
    "\n",
    "# We calculate the log likelihood\n",
    "def likelihood(K, mu, sigma, pi, data):\n",
    "    log_score = 0.0\n",
    "    for n in range(len(data)):\n",
    "        \n",
    "        log_score += np.log(Sum_Prob(K, mu, sigma, pi, data[n]))\n",
    "\n",
    "    return log_score / data.shape[0]\n",
    "\n",
    "# Initialize parameters where we randomly initialize our parameters\n",
    "def InitializeParameters(K, data):\n",
    "    mat = np.random.rand(data.shape[0], K)\n",
    "    mat = mat / mat.sum(axis=1, keepdims=True)\n",
    "    mat = {i: mat[:, i].tolist() for i in range(K)}\n",
    "    return Maximization(mat, K, data)\n",
    "\n",
    "# Expectation step where probablity of each data point is calculated w.r.t density function\n",
    "def Expectation(K, mu_k, sigma_k, pi_k, data):\n",
    "    mat = {}\n",
    "    for i in range(len(data)):\n",
    "        for k in range(K):\n",
    "            val = pi_k[k] * GDF(data[i], sigma_k[k], mu_k[k]) / Sum_Prob(K, mu_k, sigma_k, pi_k, data[i])\n",
    "            mat.setdefault(k, []).append(val)\n",
    "\n",
    "    return mat\n",
    "\n",
    "# Maximazation STep where mu,sigma and pi values are computed\n",
    "def Maximization(mat, K, data):\n",
    "    N_k = [sum(mat[key]) for key in sorted(mat.keys())]\n",
    "    new_pi_k = np.zeros(K)\n",
    "    for k in range(K):\n",
    "        new_pi_k[k] = (N_k[k] / len(data))\n",
    "\n",
    "    new_muk = []\n",
    "    for k in range(K):\n",
    "        z = np.multiply(np.array(mat[k]).reshape([-1, 1]), data)\n",
    "        val = np.sum(z, axis=0)\n",
    "        new_muk.append(val / N_k[k])\n",
    "\n",
    "    newsigma_k = []\n",
    "    for k in range(K):\n",
    "        term = np.subtract(data, new_muk[k])\n",
    "        term = np.array(term)\n",
    "        terrtra = term.T\n",
    "        term = np.multiply(np.array(mat[k]).reshape([-1, 1]), term)  # P * (X - mu)\n",
    "        val = np.matmul(terrtra, term) * np.eye(data.shape[1])  # (X - mu).T * P * (X - mu)\n",
    "        newsigma_k.append(val * 1 / N_k[k])\n",
    "\n",
    "    return new_muk, newsigma_k, new_pi_k\n",
    "\n",
    "\n",
    "def GaussianMixtureModel(K, dataset):\n",
    "    mu, sigma, pi = InitializeParameters(K, dataset)\n",
    "\n",
    "    threshold = 0.0001\n",
    "    log_score = likelihood(K, mu, sigma, pi, data)\n",
    "\n",
    "    i = 0\n",
    "    while (i < 100):\n",
    "        mat = Expectation(K, mu, sigma, pi, data)\n",
    "        new_mu, new_sigma, new_pi = Maximization(mat, K, data)\n",
    "        mu, sigma, pi = new_mu, new_sigma, new_pi\n",
    "        new_log_score = likelihood(K, new_mu, new_sigma, new_pi, data)\n",
    "        print new_log_score, log_score\n",
    "        if (new_log_score - log_score) < threshold:\n",
    "            break\n",
    "        log_score = new_log_score\n",
    "        i = i + 1\n",
    "    return mat\n",
    "\n",
    "\n",
    "np.random.seed(10)\n",
    "iris_data = datasets.load_iris()\n",
    "data = iris_data.data"
   ]
  },
  {
   "cell_type": "code",
   "execution_count": 14,
   "metadata": {},
   "outputs": [],
   "source": [
    "\n",
    "# evaluation function\n",
    "def find(mat, data,K):\n",
    "    Pred_list=[]\n",
    "\n",
    "    for i in range(len(data.data)):\n",
    "        Pred_list.append(max(mat, key=lambda k: mat[k][i]))\n",
    "    print \"evaluation value is  \",metrics.adjusted_rand_score(data.target, Pred_list)\n",
    "# Graph plot function to plot graph\n",
    "def Graph_PLot(mat,data):\n",
    "    N = len(data)\n",
    "\n",
    "    data=np.array(data)\n",
    "    width = 1\n",
    "    colors = ['r', 'b', 'g', 'y']\n",
    "    bottom=[0 for i in range(N)]\n",
    "    i = 0\n",
    "    for i in  mat.keys():\n",
    "        zipped=zip(mat[i],data[:,0])\n",
    "\n",
    "        zipped.sort(key=lambda t: t[1])\n",
    "        a, b = [list(c) for c in zip(*zipped)]\n",
    "\n",
    "        plt.bar(range(len(b)), a, width, bottom, color=colors[i])\n",
    "        i = i + 1\n",
    "\n",
    "        bottom = np.array(bottom)+np.array(a)\n",
    "    plt.xlabel(\"Sepal Length\")\n",
    "    plt.ylabel(\"probablity\")\n",
    "    plt.show()\n",
    "\n",
    "\n",
    "\n",
    "\n",
    "\n"
   ]
  },
  {
   "cell_type": "code",
   "execution_count": 15,
   "metadata": {},
   "outputs": [
    {
     "name": "stdout",
     "output_type": "stream",
     "text": [
      "-4.90576159471 -4.93283695601\n",
      "-4.69709328974 -4.90576159471\n",
      "-3.85329810958 -4.69709328974\n",
      "-3.15762876678 -3.85329810958\n",
      "-2.86535662856 -3.15762876678\n",
      "-2.52516058074 -2.86535662856\n",
      "-2.41449262517 -2.52516058074\n",
      "-2.16993571592 -2.41449262517\n",
      "-2.07438923756 -2.16993571592\n",
      "-2.06125885678 -2.07438923756\n",
      "-2.05525668327 -2.06125885678\n",
      "-2.05334299954 -2.05525668327\n",
      "-2.05296507421 -2.05334299954\n",
      "-2.05290618585 -2.05296507421\n"
     ]
    },
    {
     "data": {
      "image/png": "[encoded data removed]",
      "text/plain": [
       "<matplotlib.figure.Figure at 0x1a157c2dd0>"
      ]
     },
     "metadata": {},
     "output_type": "display_data"
    },
    {
     "name": "stdout",
     "output_type": "stream",
     "text": [
      "evaluation value is   0.834075047011\n"
     ]
    }
   ],
   "source": [
    "mat = GaussianMixtureModel(3, data)\n",
    "Graph_PLot(mat,data)\n",
    "find(mat,iris_data,3)"
   ]
  },
  {
   "cell_type": "code",
   "execution_count": 16,
   "metadata": {},
   "outputs": [],
   "source": [
    "# Graph plot function to plot graph\n",
    "def Graph_PLot(mat,data):\n",
    "    N = len(data)\n",
    "\n",
    "    data=np.array(data)\n",
    "    width = 1\n",
    "    colors = ['r', 'b', 'g', 'y']\n",
    "    bottom=[0 for i in range(N)]\n",
    "    i = 0\n",
    "    for i in  mat.keys():\n",
    "        zipped=zip(mat[i],data[:,1])\n",
    "\n",
    "        zipped.sort(key=lambda t: t[1])\n",
    "        a, b = [list(c) for c in zip(*zipped)]\n",
    "\n",
    "        plt.bar(range(len(b)), a, width, bottom, color=colors[i])\n",
    "        i = i + 1\n",
    "\n",
    "        bottom = np.array(bottom)+np.array(a)\n",
    "    plt.xlabel(\"Sepal Width\")\n",
    "    plt.ylabel(\"probablity\")\n",
    "    plt.show()\n"
   ]
  },
  {
   "cell_type": "code",
   "execution_count": 17,
   "metadata": {},
   "outputs": [
    {
     "name": "stdout",
     "output_type": "stream",
     "text": [
      "-4.71386212918 -4.90950298678\n",
      "-3.8812525629 -4.71386212918\n",
      "-3.00773780787 -3.8812525629\n",
      "-2.19221210471 -3.00773780787\n",
      "-2.07421572434 -2.19221210471\n",
      "-2.06382621212 -2.07421572434\n",
      "-2.06096642967 -2.06382621212\n",
      "-2.05906706444 -2.06096642967\n",
      "-2.05766441794 -2.05906706444\n",
      "-2.05660234784 -2.05766441794\n",
      "-2.05578921846 -2.05660234784\n",
      "-2.05516296393 -2.05578921846\n",
      "-2.05467871006 -2.05516296393\n",
      "-2.05430293164 -2.05467871006\n",
      "-2.0540102432 -2.05430293164\n",
      "-2.0537813489 -2.0540102432\n",
      "-2.0536015749 -2.0537813489\n",
      "-2.05345975925 -2.0536015749\n",
      "-2.05334740038 -2.05345975925\n",
      "-2.05325800625 -2.05334740038\n"
     ]
    },
    {
     "data": {
      "image/png": "[encoded data removed]",
      "text/plain": [
       "<matplotlib.figure.Figure at 0x10c302190>"
      ]
     },
     "metadata": {},
     "output_type": "display_data"
    },
    {
     "name": "stdout",
     "output_type": "stream",
     "text": [
      "evaluation value is   0.818005634904\n"
     ]
    }
   ],
   "source": [
    "mat = GaussianMixtureModel(3, data)\n",
    "Graph_PLot(mat,data)\n",
    "find(mat,iris_data,3)"
   ]
  },
  {
   "cell_type": "markdown",
   "metadata": {},
   "source": [
    "## Graphs of Sepal width and sepal length vs probablities\n"
   ]
  },
  {
   "cell_type": "markdown",
   "metadata": {},
   "source": [
    "# Evaluation:\n",
    "\n",
    "### First I started with 3 classes and  calculated the probablities of each datapoint in each class using EM algorithm. Then going on to next step I assigned each datapoint to particular class in which it's probablity is higher. Then using sklearn metrics.adjusted_rand_score , I compared the predicted and true labels and computed the accuracy. After every graph I have printed the accuracy computed from sklearn method. Then I repeated the same steps taking 2 and 4 set of classes and found that the accuracy was maximum when we have 3 number of classes which makes clear using 3 labels would be better than 2 0r 4. \n",
    "\n",
    "### The Rand Index computes a similarity measure between two clusterings by considering all pairs of samples and counting pairs that are assigned in the same or different clusters in the predicted and true clusterings.\n",
    "### ARI = (RI - Expected_RI) / (max(RI) - Expected_RI)\n",
    "\n",
    "### I have used  ARI that will measure not only the correct separation of elements belonging to different classes but also the relation between elements of the same clas. We can say that ARI evaluates the capability of the algorithm to separate the elements belonging to different classes. \n",
    "\n",
    "# References:\n",
    "##### sklearn.metrics.adjusted_rand_score¶\n",
    "\n",
    "\n",
    "#### On the Use of the Adjusted Rand Index as a Metric for Evaluating Supervised Classification\n",
    "#### Jorge M. Santos1 and Mark Embrechts2\n",
    "#### 1 ISEP - Instituto Superior de Engenharia do Porto, Portugal\n",
    "#### 2 Rensselaer Polytechnic Institute, Troy, New York, USA\n",
    "#### emails:jms@isep.ipp.pt, embrem@rpi.edu"
   ]
  },
  {
   "cell_type": "markdown",
   "metadata": {},
   "source": [
    "# Question2"
   ]
  },
  {
   "cell_type": "markdown",
   "metadata": {},
   "source": [
    "### 1. The causal model has been drawn and the word file is attached."
   ]
  },
  {
   "cell_type": "code",
   "execution_count": 5,
   "metadata": {},
   "outputs": [
    {
     "name": "stdout",
     "output_type": "stream",
     "text": [
      "probablity that alternator is broken given car not starting   0.00549600450796\n",
      "probablity that fan is broken given car not starting   0.109920090159\n",
      "probablity that fan is broken given car not starting and alternator broken   0.02\n",
      "probablity that alternator and fan is broken given car not starting   0.000109920090159\n"
     ]
    }
   ],
   "source": [
    "from lea import *\n",
    "\n",
    "alt_broken=Lea.boolProb(1,1000)\n",
    "fan_broken=Lea.boolProb(2,100)\n",
    "\n",
    "battery_not_charging= Lea.buildCPT((alt_broken & ~fan_broken,Lea.boolProb(1000,1000)),\n",
    "                      (~alt_broken & fan_broken,Lea.boolProb(1000,1000)),\n",
    "(alt_broken & fan_broken,Lea.boolProb(1000,1000)),\n",
    "(~alt_broken & ~fan_broken,Lea.boolProb(5,1000)))\n",
    "\n",
    "battery_flat= Lea.buildCPT((battery_not_charging,Lea.boolProb(900,1000)),\n",
    "                          (~battery_not_charging, Lea.boolProb(100, 1000)))\n",
    "\n",
    "car_not_start= Lea.buildCPT((battery_flat,Lea.boolProb(100,100)),\n",
    "                          (~battery_flat, Lea.boolProb(5, 100)))\n",
    "\n",
    "\n",
    "print  \"probablity that alternator is broken given car not starting  \",Pf(alt_broken.given(car_not_start))\n",
    "print \"probablity that fan is broken given car not starting  \",Pf(fan_broken.given(car_not_start))\n",
    "\n",
    "print \"probablity that fan is broken given car not starting and alternator broken  \",Pf(fan_broken.given(car_not_start & alt_broken))\n",
    "print \"probablity that alternator and fan is broken given car not starting  \",Pf((alt_broken & fan_broken).given(car_not_start))\n",
    "\n",
    "\n"
   ]
  },
  {
   "cell_type": "markdown",
   "metadata": {},
   "source": [
    "# Question3"
   ]
  },
  {
   "cell_type": "code",
   "execution_count": 7,
   "metadata": {},
   "outputs": [
    {
     "name": "stdout",
     "output_type": "stream",
     "text": [
      "loaded\n",
      "[[243   0   0   0   0   1   0   0   0   0   0   1   0   2   0   5   2   5\n",
      "   10  50]\n",
      " [ 40 194   8   8   3  39   1   0   0   0   1  31   2   0   9   0   4   4\n",
      "   32  13]\n",
      " [ 15  16 141  42   0  32   0   0   0   0   0  44   1   1  11   0   5   1\n",
      "   70  15]\n",
      " [ 15   7  10 250  12   6   2   0   0   0   1  41  14   1   6   0   1   2\n",
      "   19   5]\n",
      " [ 12   7   5  19 231   5   6   2   0   1   0  26   5   1   5   0   6   5\n",
      "   46   3]\n",
      " [ 24   8   2   6   1 304   0   0   0   1   0  31   0   0   4   0   2   3\n",
      "    9   0]\n",
      " [ 24   2   1  29   8   1 215  16   2   0   4   8   9   5   4   0   7   3\n",
      "   43   9]\n",
      " [ 19   1   0   4   0   0   2 279   1   2   2   3   0   2   6   0  16   1\n",
      "   54   4]\n",
      " [ 17   0   0   1   0   0   0   6 306   0   0   2   1   0   1   0  13   2\n",
      "   46   3]\n",
      " [ 37   0   0   0   1   0   0   2   1 260  20   1   0   1   2   0   2   3\n",
      "   59   8]\n",
      " [ 31   0   0   0   0   0   0   0   0   2 342   1   0   0   0   0   2   1\n",
      "   19   1]\n",
      " [ 27   1   1   0   0   0   0   0   0   0   0 345   1   0   1   0   3   1\n",
      "   12   4]\n",
      " [ 24   6   1   6   1   2   0   1   0   1   0  81 159   6  18   3  18   8\n",
      "   45  13]\n",
      " [ 49   5   0   1   0   0   0   0   0   0   1   4   2 230   2   0   2   7\n",
      "   72  21]\n",
      " [ 38   2   0   0   0   0   0   0   0   0   0   0   1   1 307   0   2   2\n",
      "   38   3]\n",
      " [ 78   1   0   0   0   0   0   0   0   0   0   0   0   3   0 278   0   2\n",
      "   13  23]\n",
      " [ 46   0   0   0   0   0   0   0   0   0   0   4   0   0   0   0 282   3\n",
      "   22   7]\n",
      " [ 88   0   0   0   0   0   0   0   0   0   1   1   0   0   0   1   1 269\n",
      "   13   2]\n",
      " [ 52   0   0   0   0   0   0   0   0   0   0   3   0   0   1   0  57   1\n",
      "  185  11]\n",
      " [ 64   1   0   0   0   0   0   0   0   0   0   2   0   0   1   5   8   2\n",
      "   15 153]]\n"
     ]
    },
    {
     "data": {
      "image/png": "[encoded data removed]",
      "text/plain": [
       "<matplotlib.figure.Figure at 0x1138cbd50>"
      ]
     },
     "metadata": {},
     "output_type": "display_data"
    }
   ],
   "source": [
    "from __future__ import division\n",
    "from sklearn.datasets import fetch_20newsgroups\n",
    "import nltk\n",
    "from nltk import re\n",
    "from nltk.corpus import stopwords\n",
    "import collections\n",
    "import string\n",
    "import numpy as np\n",
    "from collections import Counter\n",
    "\n",
    "newsgroups_train = fetch_20newsgroups(subset='train')\n",
    "newsgroups_test=fetch_20newsgroups(subset=\"test\")\n",
    "stop_words = set(stopwords.words('english'))\n",
    "\n",
    "list=zip(newsgroups_train.target,newsgroups_train.data)\n",
    "class_data={}\n",
    "for class_, val in list:\n",
    "    class_data.setdefault(class_, []).append(val)\n",
    "\n",
    "print \"loaded\"\n",
    "def word_list1(document):\n",
    "    document = re.split('\\W+',document.lower())\n",
    "    words = [w for w in document if not w in stop_words and len(w) > 2]\n",
    "    return set(words)\n",
    "\n",
    "def class_prior(class_value):\n",
    "    freq=len(class_data[class_value])\n",
    "    return freq*1.0/len(newsgroups_train.target)\n",
    "\n",
    "prob_table={}\n",
    "all_words=set()\n",
    "\n",
    "for class_ in class_data.keys():\n",
    "    prob_table[class_] = {}\n",
    "    for document in class_data[class_]:\n",
    "        words = word_list1(document)\n",
    "        all_words |= words\n",
    "        for word in words:\n",
    "            prob_table[class_][word] = prob_table[class_].get(word,0) + 1\n",
    "\n",
    "vocab_count = len(all_words)\n",
    "\n",
    "for class_ in prob_table:\n",
    "    class_count = len(class_data[class_])\n",
    "    for word in prob_table[class_]:\n",
    "        prob_table[class_][word] = (prob_table[class_][word] + 1)/(class_count+2)\n",
    "    prob_table[class_][\"**default**\"] = 1.0/(class_count+2)\n",
    "\n",
    "predicted_list = []\n",
    "for doc in newsgroups_test.data:\n",
    "    words = word_list1(doc)\n",
    "    res = -1\n",
    "    c = None\n",
    "    for class_ in prob_table.keys():\n",
    "        p = class_prior(class_)\n",
    "        for word in words:\n",
    "            try:\n",
    "                p = p * prob_table[class_].get(word,prob_table[class_][\"**default**\"])\n",
    "            except KeyError:\n",
    "                print \"err\"\n",
    "                continue\n",
    "\n",
    "        if(p>res):\n",
    "            res=p\n",
    "            c=class_\n",
    "\n",
    "    predicted_list.append(c)\n",
    "\n",
    "\n",
    "from sklearn.metrics import confusion_matrix\n",
    "import matplotlib.pyplot as plt\n",
    "\n",
    "cm = confusion_matrix(newsgroups_test.target, predicted_list)\n",
    "\n",
    "print(cm)\n",
    "\n",
    "# Show confusion matrix in a separate window\n",
    "plt.matshow(cm,cmap=plt.cm.Greens)\n",
    "plt.title('Confusion matrix')\n",
    "plt.colorbar()\n",
    "plt.ylabel('True label')\n",
    "plt.xlabel('Predicted label')\n",
    "plt.show() "
   ]
  },
  {
   "cell_type": "code",
   "execution_count": null,
   "metadata": {
    "collapsed": true
   },
   "outputs": [],
   "source": []
  }
 ],
 "metadata": {
  "kernelspec": {
   "display_name": "Python 2",
   "language": "python",
   "name": "python2"
  },
  "language_info": {
   "codemirror_mode": {
    "name": "ipython",
    "version": 2
   },
   "file_extension": ".py",
   "mimetype": "text/x-python",
   "name": "python",
   "nbconvert_exporter": "python",
   "pygments_lexer": "ipython2",
   "version": "2.7.14"
  }
 },
 "nbformat": 4,
 "nbformat_minor": 2
}
