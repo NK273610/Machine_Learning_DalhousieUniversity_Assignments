{
 "cells": [
  {
   "cell_type": "markdown",
   "metadata": {},
   "source": [
    "# Question-1"
   ]
  },
  {
   "cell_type": "code",
   "execution_count": null,
   "metadata": {},
   "outputs": [],
   "source": [
    "from __future__ import division\n",
    "import numpy as np\n",
    "\n",
    "import random\n",
    "import matplotlib.pyplot as plt\n",
    "np.random.seed(10)\n",
    "data_list=[]\n",
    "with open('pattern1.txt', 'r') as var:\n",
    "    for line in var:\n",
    "         data_list.extend(line.rstrip().split(\" \"))\n",
    "data=np.array(data_list, dtype=float).reshape(2 * 13, 156)\n",
    "\n",
    "\n",
    "\n",
    "def for_oropogate(data,list,no_of_layer):\n",
    "    activation_list = []\n",
    "    data=np.array(data)\n",
    "\n",
    "    for i in range(no_of_layer):\n",
    "        x=np.matmul(data,np.array(list[i]).transpose())\n",
    "        n=np.e**(-x)\n",
    "        n=1/(n+1)\n",
    "        activation_list.append(n)\n",
    "        data=n\n",
    "    return activation_list\n",
    "\n",
    "def back_prop(list,error,no_of_layer,activation_list):\n",
    "    delta=[]\n",
    "    for i in reversed(range(no_of_layer)):\n",
    "        if i==0:\n",
    "            continue\n",
    "        else:\n",
    "            z=np.matmul(np.array(error),np.array(list[i]))\n",
    "\n",
    "            actv=np.array(activation_list[i-1])*(1-np.array(activation_list[i-1]))\n",
    "            z=z*actv\n",
    "            delta.append(z)\n",
    "    return delta\n",
    "\n",
    "def update_weights(delta,weight_list,no_of_layes,gradient_list,activation_list,data):\n",
    "    data1=data\n",
    "\n",
    "    for i in range(no_of_layes):\n",
    "        gradient_list[i]=0.9*gradient_list[i]+np.matmul(np.array(delta[i]).transpose(),data1)\n",
    "\n",
    "        weight_list[i]=weight_list[i] +0.01*gradient_list[i]\n",
    "        data1=activation_list[i]\n",
    "    return weight_list,gradient_list"
   ]
  },
  {
   "cell_type": "code",
   "execution_count": null,
   "metadata": {},
   "outputs": [],
   "source": []
  },
  {
   "cell_type": "code",
   "execution_count": null,
   "metadata": {},
   "outputs": [],
   "source": []
  },
  {
   "cell_type": "code",
   "execution_count": null,
   "metadata": {},
   "outputs": [],
   "source": []
  },
  {
   "cell_type": "code",
   "execution_count": null,
   "metadata": {},
   "outputs": [],
   "source": []
  },
  {
   "cell_type": "code",
   "execution_count": null,
   "metadata": {},
   "outputs": [],
   "source": []
  },
  {
   "cell_type": "code",
   "execution_count": null,
   "metadata": {},
   "outputs": [],
   "source": []
  },
  {
   "cell_type": "code",
   "execution_count": null,
   "metadata": {},
   "outputs": [],
   "source": []
  },
  {
   "cell_type": "code",
   "execution_count": null,
   "metadata": {},
   "outputs": [],
   "source": []
  },
  {
   "cell_type": "code",
   "execution_count": null,
   "metadata": {},
   "outputs": [],
   "source": []
  },
  {
   "cell_type": "code",
   "execution_count": null,
   "metadata": {},
   "outputs": [],
   "source": []
  },
  {
   "cell_type": "code",
   "execution_count": null,
   "metadata": {},
   "outputs": [],
   "source": []
  }
 ],
 "metadata": {
  "kernelspec": {
   "display_name": "Python 2",
   "language": "python",
   "name": "python2"
  },
  "language_info": {
   "codemirror_mode": {
    "name": "ipython",
    "version": 2
   },
   "file_extension": ".py",
   "mimetype": "text/x-python",
   "name": "python",
   "nbconvert_exporter": "python",
   "pygments_lexer": "ipython2",
   "version": "2.7.14"
  }
 },
 "nbformat": 4,
 "nbformat_minor": 2
}
