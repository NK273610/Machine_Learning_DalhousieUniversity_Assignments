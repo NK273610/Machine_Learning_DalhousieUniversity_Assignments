{
 "cells": [
  {
   "cell_type": "markdown",
   "metadata": {},
   "source": [
    "# Question1\n",
    "\n",
    "The MNIST data is split into three parts: 55,000 data points of training data (mnist.train), 10,000 points of test data (mnist.test), and 5,000 points of validation data (mnist.validation). Every MNIST data point has two parts: an image of a handwritten digit and a corresponding label. \n",
    "\n"
   ]
  },
  {
   "cell_type": "code",
   "execution_count": 5,
   "metadata": {},
   "outputs": [
    {
     "name": "stdout",
     "output_type": "stream",
     "text": [
      "Extracting MNIST_data/train-images-idx3-ubyte.gz\n",
      "Extracting MNIST_data/train-labels-idx1-ubyte.gz\n",
      "Extracting MNIST_data/t10k-images-idx3-ubyte.gz\n",
      "Extracting MNIST_data/t10k-labels-idx1-ubyte.gz\n"
     ]
    },
    {
     "data": {
      "image/png": "[encoded data removed]",
      "text/plain": [
       "<matplotlib.figure.Figure at 0x1a1dac8e10>"
      ]
     },
     "metadata": {},
     "output_type": "display_data"
    },
    {
     "data": {
      "image/png": "[encoded data removed]",
      "text/plain": [
       "<matplotlib.figure.Figure at 0x1a1dc0bf90>"
      ]
     },
     "metadata": {},
     "output_type": "display_data"
    },
    {
     "data": {
      "image/png": "[encoded data removed]",
      "text/plain": [
       "<matplotlib.figure.Figure at 0x1a1d7b7450>"
      ]
     },
     "metadata": {},
     "output_type": "display_data"
    },
    {
     "data": {
      "image/png": "[encoded data removed]",
      "text/plain": [
       "<matplotlib.figure.Figure at 0x1a1d85b0d0>"
      ]
     },
     "metadata": {},
     "output_type": "display_data"
    },
    {
     "data": {
      "image/png": "[encoded data removed]",
      "text/plain": [
       "<matplotlib.figure.Figure at 0x1a1dbef9d0>"
      ]
     },
     "metadata": {},
     "output_type": "display_data"
    }
   ],
   "source": [
    "import matplotlib.pyplot as plt                                #import mat plot lib for plotting the the matrix\n",
    "from tensorflow.examples.tutorials.mnist import input_data     #imported data of MNIST using tensor flow routines\n",
    "mnist=input_data.read_data_sets('MNIST_data',one_hot=True)     #read datasets from input_data\n",
    "plotData=mnist.train.images[0:50]                              #mnist.train.images is a tensor (an n-dimensional array) with a shape of [50, 784]\n",
    "plotData = [plotData[i].reshape(28, 28) for i in range(5)]     #we take five samples of 50 and try to reshape this flatten array of 1 *784 into a vector of 28*28 \n",
    "for pd in plotData:                                            #We plot this 28*28 using matplotlib plt \n",
    "    plt.imshow(pd)\n",
    "    plt.show()\n"
   ]
  },
  {
   "cell_type": "code",
   "execution_count": null,
   "metadata": {},
   "outputs": [],
   "source": [
    "## References:-\n",
    "----------------------------------------------------------------------\n",
    "Article title: MNIST For ML Beginners  |  TensorFlow\n",
    "Website title: TensorFlow\n",
    "URL: https://www.tensorflow.org/get_started/mnist/beginners"
   ]
  },
  {
   "cell_type": "code",
   "execution_count": null,
   "metadata": {},
   "outputs": [],
   "source": []
  },
  {
   "cell_type": "code",
   "execution_count": null,
   "metadata": {},
   "outputs": [],
   "source": []
  },
  {
   "cell_type": "markdown",
   "metadata": {},
   "source": [
    "# Question2\n",
    "\n",
    "\n",
    "\n",
    "The iris data set contains 3 classes of 50 instances each, where each class refers to a type of iris plant.\n",
    "Attributes:-\n",
    "1. sepal length in cm \n",
    "2. sepal width in cm \n",
    "3. petal length in cm \n",
    "4. petal width in cm \n",
    "\n",
    "class:-\n",
    "-- Iris Setosa \n",
    "-- Iris Versicolour \n",
    "-- Iris Virginica"
   ]
  },
  {
   "cell_type": "code",
   "execution_count": 11,
   "metadata": {},
   "outputs": [
    {
     "name": "stdout",
     "output_type": "stream",
     "text": [
      "Using sklearn Cross_val_score SVM classifier accuracy   0.973333333333\n",
      "Using sklearn Cross_val_score RandomForest classifier accuracy  0.966666666667\n",
      "StratifiedCrossValidation without sklearn using SVM classfier  0.973333333333\n",
      "StratifiedCrossValidation without sklearn using RandomForest classfier  0.96\n"
     ]
    }
   ],
   "source": [
    "from sklearn import *\n",
    "from sklearn.ensemble import RandomForestClassifier\n",
    "from sklearn.model_selection import cross_val_score\n",
    "import numpy as np\n",
    "import pandas as pd\n",
    "from sklearn.model_selection import StratifiedKFold\n",
    "\n",
    "def AccuracyPredictor(train_data,train_target,test_data,test_target):  #Accuracy predictor method created \n",
    "    model = svm.SVC( kernel=\"linear\")               #svm classifier \n",
    "    model2=RandomForestClassifier(n_estimators=100) #randomforest classifier\n",
    "    model.fit (train_data , train_target)   #traindata and train target fit into model\n",
    "    model2.fit(train_data , train_target)\n",
    "    prediction1=model.predict (test_data)   #we predict the test data\n",
    "    prediction2=model2.predict (test_data)\n",
    "    acc1=np.mean(test_target==prediction1) #mean of values where testvalue equals predicted bvalue is returned \n",
    "    acc2=np.mean(test_target==prediction2)\n",
    "\n",
    "    return acc1,acc2\n",
    "\n",
    "def CV_UsingSklear(iris):            #CV_UsingSklearn method created\n",
    "    clf=svm.SVC(kernel=\"linear\",C=1) #SVM classfier \n",
    "    clf2 = RandomForestClassifier(n_estimators=100) #RandomForest Classifier\n",
    "    kfold = StratifiedKFold(10,shuffle=False) #stratified K fold for mean distribution of classes in each set\n",
    "    scores = cross_val_score(clf, iris.data, iris.target, cv=kfold) #cross_val_score called passing classifier and data \n",
    "    scores2=cross_val_score(clf2, iris.data, iris.target, cv=kfold)\n",
    "    print \"Using sklearn Cross_val_score SVM classifier accuracy  \",np.array(scores).mean()       #accuracies printed for both svm and random forest classifier\n",
    "    print \"Using sklearn Cross_val_score RandomForest classifier accuracy \",(np.array(scores2).mean())\n",
    "\n",
    "\n",
    "def CV_WithoutSklear(iris_data, datalen):  #startified method for cross validation created\n",
    "    Class_classificarion = {}       \n",
    "    for i in iris_data:\n",
    "        Class_classificarion.setdefault(i[1], []).append(i[0])   # data divided on basis of class, each data is bundled into same class\n",
    "    K  = 10      #no of folds\n",
    "    tlen = datalen / K\n",
    "    step_list = []\n",
    "    for data in Class_classificarion.values():        #step length for each class in steplist\n",
    "        step_list.append(tlen * len(data) * 1.0 / datalen)\n",
    "    list = []\n",
    "    for k in range(K):\n",
    "        train_set = []  #train_set,test)set,train_target,test_target created \n",
    "        test_set = []\n",
    "        test_target = []\n",
    "        train_target = []\n",
    "        for c, v in Class_classificarion.iteritems(): #test and train split into folds with mean distribution \n",
    "            step = step_list[c]\n",
    "            step = int(step)\n",
    "            test_set.extend(v[k * step:k * step + step])\n",
    "            test_target.extend(c for i in range(step))\n",
    "            train_set.extend(v[0:k * step] + v[k * step + step:datalen])\n",
    "            train_target.extend(c for i in range(len(Class_classificarion[c]) - step))\n",
    "\n",
    "        acc1,acc2 = AccuracyPredictor(train_set, train_target, test_set, test_target) #Accuracy predictor method called\n",
    "        list.append(acc1) #accuracies appended to the list\n",
    "        list.append(acc2)\n",
    "    print \"StratifiedCrossValidation without sklearn using SVM classfier \",np.array(list[0::2]).mean() #mean of accuracies printed \n",
    "    print \"StratifiedCrossValidation without sklearn using RandomForest classfier \",np.array(list[1::2]).mean()\n",
    "\n",
    "def main():\n",
    "    iris=datasets.load_iris() #load iris data using library\n",
    "    CV_UsingSklear(iris)      #CV_UsingSklearn called passing iris data\n",
    "    iris_data=zip(iris.data, iris.target)  # zipped iris data and iris target together\n",
    "    datalen=len(iris_data)                \n",
    "    CV_WithoutSklear(iris_data,datalen)    #CV_WithoutSklearn called \n",
    "    \n",
    "main()   #main method called                                                                                                               \n",
    "\n",
    "#*****************Cross validation method with k folds without mean distribution among classes in each folds*******************\n",
    "# K=10   \n",
    "# list=[]\n",
    "# for k in range(K):\n",
    "#     training_data = [x[0] for i, x in enumerate(iris_data) if i % K != k]\n",
    "#     training_target = [x[1] for i, x in enumerate(iris_data) if i % K != k]\n",
    "#     test_data = [x[0] for i, x in enumerate(iris_data) if i % K == k]\n",
    "#     test_target=[x[1] for i, x in enumerate(iris_data) if i % K == k]\n",
    "#\n",
    "#     acc=AccuracyPredictor(training_data,training_target,test_data,test_target)\n",
    "#     list.append(acc)\n",
    "#\n",
    "# print np.array(list).mean()\n"
   ]
  },
  {
   "cell_type": "markdown",
   "metadata": {},
   "source": [
    "## K fold Cross Validation\n",
    "K-fold cross validation is performed as per the following steps:\n",
    "\n",
    "We split the original labeled dataset into k equal subsets. Each subset is called a fold.\n",
    "For i = 1 to i = n where n=no of folds\n",
    "Keep the i (one fold)  as validation set and other remaining folds n-1 together form the Cross validation training set.\n",
    "We train machine learning model using the cross validation training set and calculate the accuracy of your model by validating the predicted results against the validation set.\n",
    "We estimate the accuracy of our machine learning model is calculated by averaging the scores for each of the n runs.\n",
    "\n",
    "## Stratified K-Fold Cross Validation\n",
    "In some cases, there may be a large disparity in the datasets. For example, in dataset there might be large number of particular class A and very less number of some class B. In such cases, a slight variation is made to K Fold cross validation technique, such that each fold contains approximately the same percentage of samples of each target class as the complete set. Suppose we have a dataset of 60 objects and there are 3 classes class A-10 objects, class B-20 objects and class C-30 objects and if we want to split dataset using Stratified Kfold having 10 folds, it splits such that each fold has classes A:B:C in ratio of 1:2:3. \n",
    "\n",
    "## Uses\n",
    "Cross validation is very useful when it comes to estimating the performance of a model. It helps us to determine which model would generalize on unknown dataset."
   ]
  },
  {
   "cell_type": "markdown",
   "metadata": {},
   "source": [
    "## Analysis\n",
    "\n",
    "By comapring the cross validated results of SVM and Random Forest we found that SVM is performing better in comparsion to Random Forest classifier. \n",
    "Here we have employed Stratified Kfold validation function to split our train_set into 10 folds. We use each fold as test_set and remaining as traininig_set and  estimate the mean accuracy of each model.\n",
    "We predict accuracy of each model using sklearn cross_val_score method and Stratified K fold method created without using sklearn.\n",
    "We found that SVM is having same accuracy when implemented using sklearn cross validation and function created without using Sklean and is performing better. \n",
    "Please note that I have also employed normal Kfold method and commented it which does normal kfold cross validation without mean distribution of classes in subsets."
   ]
  },
  {
   "cell_type": "markdown",
   "metadata": {},
   "source": [
    "## References:-\n",
    "***************************************************************\n",
    "\n",
    "Author\tHarshita Srivastava\n",
    "Article title:\tWhat Is K-Fold Cross Validation? - Magoosh Data Science Blog\n",
    "Website title:\tMagoosh Data Science Blog\n",
    "URL:\thttps://magoosh.com/data-science/2017/12/08/k-fold-cross-validation/"
   ]
  },
  {
   "cell_type": "code",
   "execution_count": null,
   "metadata": {},
   "outputs": [],
   "source": []
  },
  {
   "cell_type": "code",
   "execution_count": null,
   "metadata": {},
   "outputs": [],
   "source": []
  },
  {
   "cell_type": "code",
   "execution_count": null,
   "metadata": {},
   "outputs": [],
   "source": []
  },
  {
   "cell_type": "markdown",
   "metadata": {},
   "source": [
    "# Question3"
   ]
  },
  {
   "cell_type": "code",
   "execution_count": 3,
   "metadata": {},
   "outputs": [
    {
     "name": "stdout",
     "output_type": "stream",
     "text": [
      "SVM: \n",
      "('Accuracy of SVM is: ', 0.92500000000000004)\n",
      "\n",
      "\n",
      "RF:\n",
      "('Accuracy of RF is: ', 0.91666666666666663)\n",
      "\n",
      "\n",
      "MLP:\n",
      "('Accuracy of MLP is: ', 0.86666666666666659)\n"
     ]
    }
   ],
   "source": [
    "import pandas as pd\n",
    "from sklearn import *\n",
    "import numpy as np\n",
    "from sklearn.model_selection import cross_val_score\n",
    "from sklearn.ensemble import RandomForestClassifier\n",
    "from sklearn.metrics import accuracy_score\n",
    "from sklearn.neural_network import MLPClassifier\n",
    "from sklearn.utils import shuffle\n",
    "from sklearn.model_selection import StratifiedKFold\n",
    "\n",
    "\n",
    "\n",
    "def main():\n",
    "    train_df=np.loadtxt(\"wine.train\",delimiter=\",\") #we use numpy to load text from wine.train file into train_df\n",
    "    train_set = train_df[:,1:]                #seperated features from the train_df\n",
    "    train_target=train_df[:,0]                #seperated labels from the train_df\n",
    "    test_df=np.loadtxt(\"wine.test\",delimiter=\",\")\n",
    "    test_set=test_df[:,1:]                #seperated features from the wine.test class as first column has zeros\n",
    "    Best_Model(train_set,train_target,test_set) #method called to predict best model on train set\n",
    "\n",
    "\n",
    "\n",
    "\n",
    "def Best_Model(train_set,train_target,test_set): #Best_Model method created\n",
    "    model1 = svm.SVC( kernel=\"linear\") #SVM model\n",
    "    model2=RandomForestClassifier(max_depth=1, random_state=0)#RandomForest model\n",
    "    model3=MLPClassifier(hidden_layer_sizes=[100], activation='logistic')#Multi Layer Perceptron model\n",
    "    kfold = StratifiedKFold(n_splits=10, shuffle=False)\n",
    "    print(\"SVM: \")\n",
    "    accuracy1=cross_val_score(model1, train_set, train_target, cv=kfold) #cross val score method called for svm\n",
    "\n",
    "    print(\"Accuracy of SVM is: \", np.array(accuracy1).mean())#mean of predicted accuracies calculated for svm\n",
    "\n",
    "    print(\"\\n\\nRF:\")\n",
    "    accuracy2=cross_val_score(model2, train_set, train_target, cv=kfold)#cross val score method called for Randomforest\n",
    "\n",
    "    print(\"Accuracy of RF is: \", np.array(accuracy2).mean()) #mean of predicted accuracies calculated for RF\n",
    "\n",
    "    print(\"\\n\\nMLP:\")\n",
    "    accuracy3=cross_val_score(model3, train_set, train_target,cv=kfold)#cross val score method called for MultiLayerPerceptron\n",
    "\n",
    "    print(\"Accuracy of MLP is: \", np.array(accuracy3).mean()) #mean of predicted accuracies calculated for MLP\n",
    "\n",
    "    model1.fit(train_set,train_target) #we selected SVM as best model and try to fit the model\n",
    "    test_predict=model1.predict(test_set)#predicted testset using SVM model\n",
    "\n",
    "    \n",
    "    np.savetxt('*.csv', test_predict,fmt='%d',delimiter=\",\")# the ouput file with predictions\n",
    "\n",
    "main() #main method called\n"
   ]
  },
  {
   "cell_type": "markdown",
   "metadata": {},
   "source": [
    "## Explanation\n",
    "In this example we don't have test_set labels. So in order to determine the best model we have to use train_set. So we will implement stratified kfold cross validation method.\n",
    "We will divide our train_set into folds having mean distribution of classes and use one fold as test_set and rest as train_set.\n",
    "We will detemine accuracy of every model on test and trains folds and calculate the mean of accuracies in order to predict efficiency of model. \n",
    "So after following this procedure we get SVM giving highest accuracy. So I thought it to be most efficient and train svm model with train_set and predicted the test set.\n",
    "The predicted values are in *.csv file.\n"
   ]
  },
  {
   "cell_type": "code",
   "execution_count": null,
   "metadata": {},
   "outputs": [],
   "source": []
  },
  {
   "cell_type": "markdown",
   "metadata": {},
   "source": [
    "\n",
    "\n"
   ]
  }
 ],
 "metadata": {
  "kernelspec": {
   "display_name": "Python 2",
   "language": "python",
   "name": "python2"
  },
  "language_info": {
   "codemirror_mode": {
    "name": "ipython",
    "version": 2
   },
   "file_extension": ".py",
   "mimetype": "text/x-python",
   "name": "python",
   "nbconvert_exporter": "python",
   "pygments_lexer": "ipython2",
   "version": "2.7.14"
  }
 },
 "nbformat": 4,
 "nbformat_minor": 2
}
